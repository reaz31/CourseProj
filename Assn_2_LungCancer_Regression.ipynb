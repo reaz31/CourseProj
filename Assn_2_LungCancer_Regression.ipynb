{
  "nbformat": 4,
  "nbformat_minor": 0,
  "metadata": {
    "kernelspec": {
      "display_name": "Python 3",
      "language": "python",
      "name": "python3"
    },
    "language_info": {
      "codemirror_mode": {
        "name": "ipython",
        "version": 3
      },
      "file_extension": ".py",
      "mimetype": "text/x-python",
      "name": "python",
      "nbconvert_exporter": "python",
      "pygments_lexer": "ipython3",
      "version": "3.7.6"
    },
    "colab": {
      "name": "Assn_2_EDA_Regression.ipynb",
      "provenance": [],
      "include_colab_link": true
    }
  },
  "cells": [
    {
      "cell_type": "markdown",
      "metadata": {
        "id": "view-in-github",
        "colab_type": "text"
      },
      "source": [
        "<a href=\"https://colab.research.google.com/github/reaz31/CourseProj/blob/main/Assn_2_LungCancer_Regression.ipynb\" target=\"_parent\"><img src=\"https://colab.research.google.com/assets/colab-badge.svg\" alt=\"Open In Colab\"/></a>"
      ]
    },
    {
      "cell_type": "code",
      "metadata": {
        "id": "wtMqlZ58_o2Y",
        "outputId": "a51dec71-c3f8-4b77-939b-3cefcb9177ed"
      },
      "source": [
        "#Assignment 1+2: EDA and Regression for ML Part 2\n",
        "#Areej Reaz\n",
        "import pickle \n",
        "import numpy as np\n",
        "import pandas as pd\n",
        "import sklearn \n",
        "with open ('/Users/areejreaz/Downloads/assign-1-radon-data.pickle', 'rb') as pickle_file:\n",
        "    pickle_data = pickle.load(pickle_file)\n",
        "pickle_df = pd.DataFrame(pickle_data)\n",
        "pickle_df\n"
      ],
      "execution_count": null,
      "outputs": [
        {
          "output_type": "execute_result",
          "data": {
            "text/html": [
              "<div>\n",
              "<style scoped>\n",
              "    .dataframe tbody tr th:only-of-type {\n",
              "        vertical-align: middle;\n",
              "    }\n",
              "\n",
              "    .dataframe tbody tr th {\n",
              "        vertical-align: top;\n",
              "    }\n",
              "\n",
              "    .dataframe thead th {\n",
              "        text-align: right;\n",
              "    }\n",
              "</style>\n",
              "<table border=\"1\" class=\"dataframe\">\n",
              "  <thead>\n",
              "    <tr style=\"text-align: right;\">\n",
              "      <th></th>\n",
              "      <th>Code</th>\n",
              "      <th>State</th>\n",
              "      <th>County</th>\n",
              "      <th>Lung Cancer Mortality</th>\n",
              "      <th>Radon</th>\n",
              "      <th>Obesity</th>\n",
              "      <th>Age Over 65</th>\n",
              "      <th>Currently Smoke</th>\n",
              "      <th>Ever Smoke</th>\n",
              "      <th>Median HH Income</th>\n",
              "      <th>Mort Rank</th>\n",
              "      <th>Radon Rank</th>\n",
              "    </tr>\n",
              "  </thead>\n",
              "  <tbody>\n",
              "    <tr>\n",
              "      <th>0</th>\n",
              "      <td>1001</td>\n",
              "      <td>AL</td>\n",
              "      <td>Autauga_County</td>\n",
              "      <td>97.0293</td>\n",
              "      <td>1.5</td>\n",
              "      <td>31.3</td>\n",
              "      <td>10.2</td>\n",
              "      <td>26.4</td>\n",
              "      <td>48.60</td>\n",
              "      <td>56.58</td>\n",
              "      <td>2523</td>\n",
              "      <td>1113.5</td>\n",
              "    </tr>\n",
              "    <tr>\n",
              "      <th>1</th>\n",
              "      <td>13103</td>\n",
              "      <td>GA</td>\n",
              "      <td>Effingham_County</td>\n",
              "      <td>94.4043</td>\n",
              "      <td>0.5</td>\n",
              "      <td>31.1</td>\n",
              "      <td>8.0</td>\n",
              "      <td>26.6</td>\n",
              "      <td>49.65</td>\n",
              "      <td>63.26</td>\n",
              "      <td>2409</td>\n",
              "      <td>270.5</td>\n",
              "    </tr>\n",
              "    <tr>\n",
              "      <th>2</th>\n",
              "      <td>13217</td>\n",
              "      <td>GA</td>\n",
              "      <td>Newton_County</td>\n",
              "      <td>91.8648</td>\n",
              "      <td>1.3</td>\n",
              "      <td>32.1</td>\n",
              "      <td>9.9</td>\n",
              "      <td>27.4</td>\n",
              "      <td>49.95</td>\n",
              "      <td>51.18</td>\n",
              "      <td>2281</td>\n",
              "      <td>974.5</td>\n",
              "    </tr>\n",
              "    <tr>\n",
              "      <th>3</th>\n",
              "      <td>13225</td>\n",
              "      <td>GA</td>\n",
              "      <td>Peach_County</td>\n",
              "      <td>93.6161</td>\n",
              "      <td>1.6</td>\n",
              "      <td>30.1</td>\n",
              "      <td>9.8</td>\n",
              "      <td>27.5</td>\n",
              "      <td>47.55</td>\n",
              "      <td>41.73</td>\n",
              "      <td>2366</td>\n",
              "      <td>1184.0</td>\n",
              "    </tr>\n",
              "    <tr>\n",
              "      <th>4</th>\n",
              "      <td>21077</td>\n",
              "      <td>KY</td>\n",
              "      <td>Gallatin_County</td>\n",
              "      <td>141.4099</td>\n",
              "      <td>0.6</td>\n",
              "      <td>30.9</td>\n",
              "      <td>10.3</td>\n",
              "      <td>27.9</td>\n",
              "      <td>54.60</td>\n",
              "      <td>47.68</td>\n",
              "      <td>2878</td>\n",
              "      <td>364.5</td>\n",
              "    </tr>\n",
              "    <tr>\n",
              "      <th>...</th>\n",
              "      <td>...</td>\n",
              "      <td>...</td>\n",
              "      <td>...</td>\n",
              "      <td>...</td>\n",
              "      <td>...</td>\n",
              "      <td>...</td>\n",
              "      <td>...</td>\n",
              "      <td>...</td>\n",
              "      <td>...</td>\n",
              "      <td>...</td>\n",
              "      <td>...</td>\n",
              "      <td>...</td>\n",
              "    </tr>\n",
              "    <tr>\n",
              "      <th>2876</th>\n",
              "      <td>37135</td>\n",
              "      <td>NC</td>\n",
              "      <td>Orange_County</td>\n",
              "      <td>77.8595</td>\n",
              "      <td>2.0</td>\n",
              "      <td>22.2</td>\n",
              "      <td>8.4</td>\n",
              "      <td>15.4</td>\n",
              "      <td>41.80</td>\n",
              "      <td>61.57</td>\n",
              "      <td>1346</td>\n",
              "      <td>1410.5</td>\n",
              "    </tr>\n",
              "    <tr>\n",
              "      <th>2877</th>\n",
              "      <td>42029</td>\n",
              "      <td>PA</td>\n",
              "      <td>Chester_County</td>\n",
              "      <td>71.4891</td>\n",
              "      <td>9.9</td>\n",
              "      <td>22.1</td>\n",
              "      <td>11.7</td>\n",
              "      <td>17.6</td>\n",
              "      <td>43.10</td>\n",
              "      <td>90.56</td>\n",
              "      <td>932</td>\n",
              "      <td>2781.0</td>\n",
              "    </tr>\n",
              "    <tr>\n",
              "      <th>2878</th>\n",
              "      <td>49027</td>\n",
              "      <td>UT</td>\n",
              "      <td>Millard_County</td>\n",
              "      <td>27.1582</td>\n",
              "      <td>0.7</td>\n",
              "      <td>20.9</td>\n",
              "      <td>12.4</td>\n",
              "      <td>17.4</td>\n",
              "      <td>40.30</td>\n",
              "      <td>52.21</td>\n",
              "      <td>9</td>\n",
              "      <td>460.5</td>\n",
              "    </tr>\n",
              "    <tr>\n",
              "      <th>2879</th>\n",
              "      <td>49029</td>\n",
              "      <td>UT</td>\n",
              "      <td>Morgan_County</td>\n",
              "      <td>32.9497</td>\n",
              "      <td>3.7</td>\n",
              "      <td>21.2</td>\n",
              "      <td>8.7</td>\n",
              "      <td>12.2</td>\n",
              "      <td>31.50</td>\n",
              "      <td>81.36</td>\n",
              "      <td>23</td>\n",
              "      <td>2079.5</td>\n",
              "    </tr>\n",
              "    <tr>\n",
              "      <th>2880</th>\n",
              "      <td>49051</td>\n",
              "      <td>UT</td>\n",
              "      <td>Wasatch_County</td>\n",
              "      <td>30.8043</td>\n",
              "      <td>3.6</td>\n",
              "      <td>22.5</td>\n",
              "      <td>8.4</td>\n",
              "      <td>15.6</td>\n",
              "      <td>38.45</td>\n",
              "      <td>75.11</td>\n",
              "      <td>16</td>\n",
              "      <td>2051.0</td>\n",
              "    </tr>\n",
              "  </tbody>\n",
              "</table>\n",
              "<p>2881 rows × 12 columns</p>\n",
              "</div>"
            ],
            "text/plain": [
              "       Code State            County  Lung Cancer Mortality  Radon  Obesity  \\\n",
              "0      1001    AL    Autauga_County                97.0293    1.5     31.3   \n",
              "1     13103    GA  Effingham_County                94.4043    0.5     31.1   \n",
              "2     13217    GA     Newton_County                91.8648    1.3     32.1   \n",
              "3     13225    GA      Peach_County                93.6161    1.6     30.1   \n",
              "4     21077    KY   Gallatin_County               141.4099    0.6     30.9   \n",
              "...     ...   ...               ...                    ...    ...      ...   \n",
              "2876  37135    NC     Orange_County                77.8595    2.0     22.2   \n",
              "2877  42029    PA    Chester_County                71.4891    9.9     22.1   \n",
              "2878  49027    UT    Millard_County                27.1582    0.7     20.9   \n",
              "2879  49029    UT     Morgan_County                32.9497    3.7     21.2   \n",
              "2880  49051    UT    Wasatch_County                30.8043    3.6     22.5   \n",
              "\n",
              "      Age Over 65  Currently Smoke  Ever Smoke  Median HH Income  Mort Rank  \\\n",
              "0            10.2             26.4       48.60             56.58       2523   \n",
              "1             8.0             26.6       49.65             63.26       2409   \n",
              "2             9.9             27.4       49.95             51.18       2281   \n",
              "3             9.8             27.5       47.55             41.73       2366   \n",
              "4            10.3             27.9       54.60             47.68       2878   \n",
              "...           ...              ...         ...               ...        ...   \n",
              "2876          8.4             15.4       41.80             61.57       1346   \n",
              "2877         11.7             17.6       43.10             90.56        932   \n",
              "2878         12.4             17.4       40.30             52.21          9   \n",
              "2879          8.7             12.2       31.50             81.36         23   \n",
              "2880          8.4             15.6       38.45             75.11         16   \n",
              "\n",
              "      Radon Rank  \n",
              "0         1113.5  \n",
              "1          270.5  \n",
              "2          974.5  \n",
              "3         1184.0  \n",
              "4          364.5  \n",
              "...          ...  \n",
              "2876      1410.5  \n",
              "2877      2781.0  \n",
              "2878       460.5  \n",
              "2879      2079.5  \n",
              "2880      2051.0  \n",
              "\n",
              "[2881 rows x 12 columns]"
            ]
          },
          "metadata": {
            "tags": []
          },
          "execution_count": 57
        }
      ]
    },
    {
      "cell_type": "code",
      "metadata": {
        "id": "Hnev1vkf_o2Z",
        "outputId": "e19270a8-e404-43bd-c7cc-727624fa4033"
      },
      "source": [
        "# Examine the data for missing or invalid values.\n",
        "#Decide what to do about missing or invalid data you observe:  Delete? Replace, Impute?\n",
        "pickle_df.isnull().sum()\n",
        "#1 Null item - should be deleted"
      ],
      "execution_count": null,
      "outputs": [
        {
          "output_type": "execute_result",
          "data": {
            "text/plain": [
              "Code                     0\n",
              "State                    0\n",
              "County                   0\n",
              "Lung Cancer Mortality    0\n",
              "Radon                    0\n",
              "Obesity                  0\n",
              "Age Over 65              0\n",
              "Currently Smoke          0\n",
              "Ever Smoke               0\n",
              "Median HH Income         1\n",
              "Mort Rank                0\n",
              "Radon Rank               0\n",
              "dtype: int64"
            ]
          },
          "metadata": {
            "tags": []
          },
          "execution_count": 58
        }
      ]
    },
    {
      "cell_type": "code",
      "metadata": {
        "id": "DyacKcdq_o2Z",
        "outputId": "33ba934b-5960-40ae-aa3e-e6ab39d52be8"
      },
      "source": [
        "pd_df1 = pickle_df.dropna()\n",
        "print(pd_df1)"
      ],
      "execution_count": null,
      "outputs": [
        {
          "output_type": "stream",
          "text": [
            "       Code State            County  Lung Cancer Mortality  Radon  Obesity  \\\n",
            "0      1001    AL    Autauga_County                97.0293    1.5     31.3   \n",
            "1     13103    GA  Effingham_County                94.4043    0.5     31.1   \n",
            "2     13217    GA     Newton_County                91.8648    1.3     32.1   \n",
            "3     13225    GA      Peach_County                93.6161    1.6     30.1   \n",
            "4     21077    KY   Gallatin_County               141.4099    0.6     30.9   \n",
            "...     ...   ...               ...                    ...    ...      ...   \n",
            "2876  37135    NC     Orange_County                77.8595    2.0     22.2   \n",
            "2877  42029    PA    Chester_County                71.4891    9.9     22.1   \n",
            "2878  49027    UT    Millard_County                27.1582    0.7     20.9   \n",
            "2879  49029    UT     Morgan_County                32.9497    3.7     21.2   \n",
            "2880  49051    UT    Wasatch_County                30.8043    3.6     22.5   \n",
            "\n",
            "      Age Over 65  Currently Smoke  Ever Smoke  Median HH Income  Mort Rank  \\\n",
            "0            10.2             26.4       48.60             56.58       2523   \n",
            "1             8.0             26.6       49.65             63.26       2409   \n",
            "2             9.9             27.4       49.95             51.18       2281   \n",
            "3             9.8             27.5       47.55             41.73       2366   \n",
            "4            10.3             27.9       54.60             47.68       2878   \n",
            "...           ...              ...         ...               ...        ...   \n",
            "2876          8.4             15.4       41.80             61.57       1346   \n",
            "2877         11.7             17.6       43.10             90.56        932   \n",
            "2878         12.4             17.4       40.30             52.21          9   \n",
            "2879          8.7             12.2       31.50             81.36         23   \n",
            "2880          8.4             15.6       38.45             75.11         16   \n",
            "\n",
            "      Radon Rank  \n",
            "0         1113.5  \n",
            "1          270.5  \n",
            "2          974.5  \n",
            "3         1184.0  \n",
            "4          364.5  \n",
            "...          ...  \n",
            "2876      1410.5  \n",
            "2877      2781.0  \n",
            "2878       460.5  \n",
            "2879      2079.5  \n",
            "2880      2051.0  \n",
            "\n",
            "[2880 rows x 12 columns]\n"
          ],
          "name": "stdout"
        }
      ]
    },
    {
      "cell_type": "code",
      "metadata": {
        "id": "OvR2HxKy_o2a",
        "outputId": "7b794478-e312-4807-8585-e6a844d1bf2f"
      },
      "source": [
        "pd_df1.info()\n",
        "\n",
        "\n",
        "#so the  Median HH Income - has one blank row and we can just drop this record so then there will be good data present."
      ],
      "execution_count": null,
      "outputs": [
        {
          "output_type": "stream",
          "text": [
            "<class 'pandas.core.frame.DataFrame'>\n",
            "Int64Index: 2880 entries, 0 to 2880\n",
            "Data columns (total 12 columns):\n",
            " #   Column                 Non-Null Count  Dtype  \n",
            "---  ------                 --------------  -----  \n",
            " 0   Code                   2880 non-null   int64  \n",
            " 1   State                  2880 non-null   object \n",
            " 2   County                 2880 non-null   object \n",
            " 3   Lung Cancer Mortality  2880 non-null   float64\n",
            " 4   Radon                  2880 non-null   float64\n",
            " 5   Obesity                2880 non-null   float64\n",
            " 6   Age Over 65            2880 non-null   float64\n",
            " 7   Currently Smoke        2880 non-null   float64\n",
            " 8   Ever Smoke             2880 non-null   float64\n",
            " 9   Median HH Income       2880 non-null   float64\n",
            " 10  Mort Rank              2880 non-null   int64  \n",
            " 11  Radon Rank             2880 non-null   float64\n",
            "dtypes: float64(8), int64(2), object(2)\n",
            "memory usage: 292.5+ KB\n"
          ],
          "name": "stdout"
        }
      ]
    },
    {
      "cell_type": "code",
      "metadata": {
        "id": "nwKFAT1J_o2a",
        "outputId": "b3e7d86e-fcf0-44fd-9ca9-3b89aab38ecd"
      },
      "source": [
        "#Describe the data by calculating descriptive statistics\n",
        "print(pd_df1.describe())\n",
        "\n",
        "#Based on the description below, it shows there are about 7,800,000 deaths on average per year due to lung cancer.\n",
        "#Radon level seems to have a possible outlier, if Max is at 99.7 and average is about 3.08.\n",
        "#On Average 29% of the population is obese. \n"
      ],
      "execution_count": null,
      "outputs": [
        {
          "output_type": "stream",
          "text": [
            "               Code  Lung Cancer Mortality        Radon      Obesity  \\\n",
            "count   2880.000000            2880.000000  2880.000000  2880.000000   \n",
            "mean   29873.506250              78.121129     3.082007    29.039132   \n",
            "std    14773.962255              17.650528     3.640678     3.723059   \n",
            "min     1001.000000               6.761900     0.000000    11.500000   \n",
            "25%    18170.500000              67.310000     1.000000    27.300000   \n",
            "50%    29060.000000              79.154000     2.050000    29.200000   \n",
            "75%    42049.500000              89.709625     4.000000    31.100000   \n",
            "max    56043.000000             205.746400    99.700000    43.900000   \n",
            "\n",
            "       Age Over 65  Currently Smoke   Ever Smoke  Median HH Income  \\\n",
            "count  2880.000000      2880.000000  2880.000000       2880.000000   \n",
            "mean     14.818333        25.350347    49.929549         48.149885   \n",
            "std       4.028053         4.801438     5.461456         11.929568   \n",
            "min       3.000000         7.300000    25.650000         22.890000   \n",
            "25%      12.200000        22.200000    46.600000         40.267500   \n",
            "50%      14.400000        25.500000    50.425000         46.485000   \n",
            "75%      17.100000        28.400000    53.650000         53.730000   \n",
            "max      34.700000        40.900000    67.300000        125.900000   \n",
            "\n",
            "         Mort Rank   Radon Rank  \n",
            "count  2880.000000  2880.000000  \n",
            "mean   1440.654861  1440.843056  \n",
            "std     831.755489   831.741114  \n",
            "min       1.000000     5.500000  \n",
            "25%     720.750000   719.500000  \n",
            "50%    1440.500000  1438.000000  \n",
            "75%    2160.250000  2161.500000  \n",
            "max    2881.000000  2881.000000  \n"
          ],
          "name": "stdout"
        }
      ]
    },
    {
      "cell_type": "code",
      "metadata": {
        "id": "EE3fyyxR_o2a",
        "outputId": "14e36564-797f-427b-cb88-56e19bb2d851"
      },
      "source": [
        "#Graph Lung Cancer Mortality Rate vs. Radon\n",
        "#X = ['Radon Rank']\n",
        "#Y = ['Lung Cancer Mortality']\n",
        "\n",
        "import matplotlib.pyplot as plt\n",
        "import pandas as pd\n",
        "\n",
        "pd_df1.plot(kind='scatter',x='Lung Cancer Mortality',y='Radon',color='blue')\n",
        "plt.show()\n",
        "\n",
        "\n",
        "#Lung Cancer Mortality:\n",
        "#Mortality Rate (Deaths per 100,000 Person-Years)\n",
        "#Radon:\n",
        "#County Average Indoor Radon Level (1 decimal place)"
      ],
      "execution_count": null,
      "outputs": [
        {
          "output_type": "display_data",
          "data": {
            "image/png": "[encoded data removed]",
            "text/plain": [
              "<Figure size 432x288 with 1 Axes>"
            ]
          },
          "metadata": {
            "tags": [],
            "needs_background": "light"
          }
        }
      ]
    },
    {
      "cell_type": "code",
      "metadata": {
        "id": "iQf5pT4f_o2a",
        "outputId": "8615e1c2-d446-43ff-fd12-5be1017d2bea"
      },
      "source": [
        "# Density Plot and Histogram of all arrival delays\n",
        "import seaborn as sns\n",
        "import seaborn as seabornInstance \n",
        "#x = pd_df1['Lung Cancer Mortality']\n",
        "#sns.distplot(x) \n",
        "\n",
        "plt.figure(figsize=(15,10))\n",
        "plt.tight_layout()\n",
        "seabornInstance.distplot(pd_df1['Lung Cancer Mortality'])"
      ],
      "execution_count": null,
      "outputs": [
        {
          "output_type": "execute_result",
          "data": {
            "text/plain": [
              "<matplotlib.axes._subplots.AxesSubplot at 0x7fa106d13290>"
            ]
          },
          "metadata": {
            "tags": []
          },
          "execution_count": 63
        },
        {
          "output_type": "display_data",
          "data": {
            "image/png": "[encoded data removed]",
            "text/plain": [
              "<Figure size 1080x720 with 1 Axes>"
            ]
          },
          "metadata": {
            "tags": [],
            "needs_background": "light"
          }
        }
      ]
    },
    {
      "cell_type": "code",
      "metadata": {
        "id": "gctnuhEa_o2a"
      },
      "source": [
        "#Train a regression model that predicts Lung Cancer Mortality (LCM) using a cross-validation method.  \n",
        "#K-fold cross-validation is preferred, but simple hold-out will suffice for this assignment.  \n",
        "#Evaluate the performance of your model. \n",
        "\n",
        "#---------------------------------------------------------------------------------------------#\n",
        "\n",
        "\n",
        "# seed value for random number generators to obtain reproducible results\n",
        "RANDOM_SEED = 1\n",
        "\n",
        "\n",
        "# modeling routines from Scikit Learn packages\n",
        "import sklearn.linear_model \n",
        "from sklearn.linear_model import LinearRegression, Ridge, Lasso, ElasticNet\n",
        "from sklearn.metrics import mean_squared_error, r2_score  \n",
        "import matplotlib.pyplot as plt  \n",
        "import seaborn as seabornInstance \n",
        "from sklearn.model_selection import train_test_split \n",
        "from sklearn import metrics\n",
        "from math import sqrt  # for root mean-squared error calculation\n",
        "import sklearn.linear_model \n",
        "\n",
        "#--------------------------------------------------------------------------------------------#\n",
        "\n",
        "X = pd_df1['Radon'].values.reshape(-1,1)\n",
        "y = pd_df1['Lung Cancer Mortality'].values.reshape(-1,1)\n",
        "\n",
        "X_train, X_test, y_train, y_test = train_test_split(X, y, test_size=0.2, random_state=0)\n",
        "\n"
      ],
      "execution_count": null,
      "outputs": []
    },
    {
      "cell_type": "code",
      "metadata": {
        "id": "nvuDAiTb_o2a",
        "outputId": "cb1ebfd8-6c61-4a38-a29a-f0f2ac9772c9"
      },
      "source": [
        "regressor = LinearRegression()  \n",
        "regressor.fit(X_train, y_train) #training the algorithm"
      ],
      "execution_count": null,
      "outputs": [
        {
          "output_type": "execute_result",
          "data": {
            "text/plain": [
              "LinearRegression(copy_X=True, fit_intercept=True, n_jobs=None, normalize=False)"
            ]
          },
          "metadata": {
            "tags": []
          },
          "execution_count": 101
        }
      ]
    },
    {
      "cell_type": "code",
      "metadata": {
        "id": "sRSqQefw_o2b"
      },
      "source": [
        "#testing the data between the LCM  vs the Radon levels\n",
        "y_pred = regressor.predict(X_test)"
      ],
      "execution_count": null,
      "outputs": []
    },
    {
      "cell_type": "code",
      "metadata": {
        "id": "6T5XoOEm_o2b",
        "outputId": "4ddd8aa9-25d3-48ab-cd4f-3a4e6d10ddc2"
      },
      "source": [
        "df = pd.DataFrame({'Actual': y_test.flatten(), 'Predicted': y_pred.flatten()})\n",
        "df.head(10)"
      ],
      "execution_count": null,
      "outputs": [
        {
          "output_type": "execute_result",
          "data": {
            "text/html": [
              "<div>\n",
              "<style scoped>\n",
              "    .dataframe tbody tr th:only-of-type {\n",
              "        vertical-align: middle;\n",
              "    }\n",
              "\n",
              "    .dataframe tbody tr th {\n",
              "        vertical-align: top;\n",
              "    }\n",
              "\n",
              "    .dataframe thead th {\n",
              "        text-align: right;\n",
              "    }\n",
              "</style>\n",
              "<table border=\"1\" class=\"dataframe\">\n",
              "  <thead>\n",
              "    <tr style=\"text-align: right;\">\n",
              "      <th></th>\n",
              "      <th>Actual</th>\n",
              "      <th>Predicted</th>\n",
              "    </tr>\n",
              "  </thead>\n",
              "  <tbody>\n",
              "    <tr>\n",
              "      <th>0</th>\n",
              "      <td>85.2203</td>\n",
              "      <td>81.140957</td>\n",
              "    </tr>\n",
              "    <tr>\n",
              "      <th>1</th>\n",
              "      <td>87.5139</td>\n",
              "      <td>81.428173</td>\n",
              "    </tr>\n",
              "    <tr>\n",
              "      <th>2</th>\n",
              "      <td>100.2406</td>\n",
              "      <td>82.289821</td>\n",
              "    </tr>\n",
              "    <tr>\n",
              "      <th>3</th>\n",
              "      <td>29.9109</td>\n",
              "      <td>81.140957</td>\n",
              "    </tr>\n",
              "    <tr>\n",
              "      <th>4</th>\n",
              "      <td>44.5470</td>\n",
              "      <td>75.253029</td>\n",
              "    </tr>\n",
              "    <tr>\n",
              "      <th>5</th>\n",
              "      <td>92.7481</td>\n",
              "      <td>77.837973</td>\n",
              "    </tr>\n",
              "    <tr>\n",
              "      <th>6</th>\n",
              "      <td>120.3381</td>\n",
              "      <td>80.997349</td>\n",
              "    </tr>\n",
              "    <tr>\n",
              "      <th>7</th>\n",
              "      <td>76.4395</td>\n",
              "      <td>76.114677</td>\n",
              "    </tr>\n",
              "    <tr>\n",
              "      <th>8</th>\n",
              "      <td>46.3092</td>\n",
              "      <td>68.503454</td>\n",
              "    </tr>\n",
              "    <tr>\n",
              "      <th>9</th>\n",
              "      <td>72.0148</td>\n",
              "      <td>79.417661</td>\n",
              "    </tr>\n",
              "  </tbody>\n",
              "</table>\n",
              "</div>"
            ],
            "text/plain": [
              "     Actual  Predicted\n",
              "0   85.2203  81.140957\n",
              "1   87.5139  81.428173\n",
              "2  100.2406  82.289821\n",
              "3   29.9109  81.140957\n",
              "4   44.5470  75.253029\n",
              "5   92.7481  77.837973\n",
              "6  120.3381  80.997349\n",
              "7   76.4395  76.114677\n",
              "8   46.3092  68.503454\n",
              "9   72.0148  79.417661"
            ]
          },
          "metadata": {
            "tags": []
          },
          "execution_count": 104
        }
      ]
    },
    {
      "cell_type": "code",
      "metadata": {
        "id": "ZT3h9M_v_o2b",
        "outputId": "895b3b91-bfcf-4b7b-e072-cd3061ba4456"
      },
      "source": [
        "plt.scatter(X_test, y_test,  color='green')\n",
        "plt.plot(X_test, y_pred, color='blue', linewidth=2)\n",
        "plt.xlabel('LCM')\n",
        "plt.ylabel('Radon')\n",
        "plt.title('LCM vs Radon ')\n",
        "plt.show()"
      ],
      "execution_count": null,
      "outputs": [
        {
          "output_type": "display_data",
          "data": {
            "image/png": "[encoded data removed]",
            "text/plain": [
              "<Figure size 432x288 with 1 Axes>"
            ]
          },
          "metadata": {
            "tags": [],
            "needs_background": "light"
          }
        }
      ]
    },
    {
      "cell_type": "code",
      "metadata": {
        "scrolled": true,
        "id": "TS_3TzwY_o2b",
        "outputId": "68ee7cf2-4f68-4286-d5c3-ffe658cb938a"
      },
      "source": [
        "# MSE is an appropriate performance metric.  \n",
        "#The predictors, or \"features\" you use to predict LCM, is your choice to make, as long as you can justify it.\n",
        "\n",
        "print('Mean Absolute Error:', metrics.mean_absolute_error(y_test, y_pred))  \n",
        "print('Mean Squared Error:', metrics.mean_squared_error(y_test, y_pred))  \n",
        "print('Root Mean Squared Error:', np.sqrt(metrics.mean_squared_error(y_test, y_pred)))"
      ],
      "execution_count": null,
      "outputs": [
        {
          "output_type": "stream",
          "text": [
            "Mean Absolute Error: 1.9025045539195655\n",
            "Mean Squared Error: 8.49511057343533\n",
            "Root Mean Squared Error: 2.9146372970637926\n"
          ],
          "name": "stdout"
        }
      ]
    },
    {
      "cell_type": "code",
      "metadata": {
        "id": "fIc_uQKS_o2b"
      },
      "source": [
        "#8.\t Train and validate a regression model that predicts LCM after standardizing, or rescaling, your features. \n",
        "    #Use a standardization or rescaling method of your choice.  Use K-fold or hold out validation. See: \n",
        "#https://scikit-learn.org/stable/modules/preprocessing.html#standardization-or-mean-removal-and-variance-scaling (Links to an external site.)\n",
        "#https://scikit-learn.org/stable/auto_examples/preprocessing/plot_all_scaling.html#sphx-glr-auto-examples-preprocessing-plot-all-scaling-py (Links to an external site.)\n",
        "from sklearn import preprocessing\n",
        "from sklearn.preprocessing import StandardScaler\n",
        "#from sklearn.preprocessing import MinMaxScaler\n",
        "import scipy\n",
        "from pylab import rcParams\n",
        "import seaborn as sns\n",
        "from pandas import Series, DataFrame\n",
        "\n",
        "import matplotlib.pyplot as plt \n",
        "\n",
        "\n",
        "xS = pd_df1['Radon'].values.reshape(-1,1)\n",
        "yS = pd_df1['Lung Cancer Mortality'].values.reshape(-1,1)\n",
        "\n",
        "XS_train, XS_test, yS_train, yS_test = train_test_split(XS, yS, test_size=0.2, random_state=0)\n",
        "\n"
      ],
      "execution_count": null,
      "outputs": []
    },
    {
      "cell_type": "code",
      "metadata": {
        "id": "-bPqK1ui_o2b",
        "outputId": "92e05df8-a89a-4100-f21c-00c3bad35026"
      },
      "source": [
        "scaler = preprocessing.StandardScaler().fit(XS_train)\n",
        "scaler\n",
        "StandardScaler()\n",
        "\n",
        "scaler.mean_\n",
        "\n"
      ],
      "execution_count": null,
      "outputs": [
        {
          "output_type": "execute_result",
          "data": {
            "text/plain": [
              "array([78.25052192])"
            ]
          },
          "metadata": {
            "tags": []
          },
          "execution_count": 112
        }
      ]
    },
    {
      "cell_type": "code",
      "metadata": {
        "id": "6N2gjJl2_o2c",
        "outputId": "ad544ba6-e0e5-4dd1-e5b6-ee2431a7b28d"
      },
      "source": [
        "scaler.scale_"
      ],
      "execution_count": null,
      "outputs": [
        {
          "output_type": "execute_result",
          "data": {
            "text/plain": [
              "array([17.47954541])"
            ]
          },
          "metadata": {
            "tags": []
          },
          "execution_count": 113
        }
      ]
    },
    {
      "cell_type": "code",
      "metadata": {
        "id": "Ukq7ItHN_o2c",
        "outputId": "93cce163-cb10-47e7-c01d-6246fe7b64c1"
      },
      "source": [
        "scaler.transform(XS_train)"
      ],
      "execution_count": null,
      "outputs": [
        {
          "output_type": "execute_result",
          "data": {
            "text/plain": [
              "array([[ 0.25068032],\n",
              "       [ 0.36731379],\n",
              "       [-1.70171599],\n",
              "       ...,\n",
              "       [ 1.43112292],\n",
              "       [ 0.0664078 ],\n",
              "       [-3.56386968]])"
            ]
          },
          "metadata": {
            "tags": []
          },
          "execution_count": 114
        }
      ]
    },
    {
      "cell_type": "code",
      "metadata": {
        "id": "DwEPO8uR_o2c",
        "outputId": "ad27f4b8-b6e7-4f15-b34c-76b2428b08e2"
      },
      "source": [
        "print('Mean Absolute Error:', metrics.mean_absolute_error(yS_test, yS_pred))  \n",
        "print('Mean Squared Error:', metrics.mean_squared_error(yS_test, yS_pred))  \n",
        "print('Root Mean Squared Error:', np.sqrt(metrics.mean_squared_error(yS_test, yS_pred)))"
      ],
      "execution_count": null,
      "outputs": [
        {
          "output_type": "stream",
          "text": [
            "Mean Absolute Error: 165.41525229995972\n",
            "Mean Squared Error: 28940.638649087246\n",
            "Root Mean Squared Error: 170.11948344938992\n"
          ],
          "name": "stdout"
        }
      ]
    },
    {
      "cell_type": "code",
      "metadata": {
        "id": "CRLOx_Xn_o2c",
        "outputId": "188681e7-2904-4db8-b96a-75c474e0541a"
      },
      "source": [
        "plt.scatter(XS_test, yS_test,  color='blue')\n",
        "plt.plot(XS_test, yS_pred, color='yellow', linewidth=2)\n",
        "plt.xlabel('LCM')\n",
        "plt.ylabel('Radon')\n",
        "plt.title('LCM vs Radon ')\n",
        "plt.show()\n",
        "\n",
        "#Based on the graph below, it seems the standard scalar method I am using is perhaps not working."
      ],
      "execution_count": null,
      "outputs": [
        {
          "output_type": "display_data",
          "data": {
            "image/png": "[encoded data removed]",
            "text/plain": [
              "<Figure size 432x288 with 1 Axes>"
            ]
          },
          "metadata": {
            "tags": [],
            "needs_background": "light"
          }
        }
      ]
    }
  ]
}